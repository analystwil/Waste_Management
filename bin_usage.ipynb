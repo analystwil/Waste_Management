{
 "cells": [
  {
   "cell_type": "code",
   "execution_count": 1,
   "metadata": {},
   "outputs": [
    {
     "data": {
      "text/html": [
       "<div>\n",
       "<style scoped>\n",
       "    .dataframe tbody tr th:only-of-type {\n",
       "        vertical-align: middle;\n",
       "    }\n",
       "\n",
       "    .dataframe tbody tr th {\n",
       "        vertical-align: top;\n",
       "    }\n",
       "\n",
       "    .dataframe thead th {\n",
       "        text-align: right;\n",
       "    }\n",
       "</style>\n",
       "<table border=\"1\" class=\"dataframe\">\n",
       "  <thead>\n",
       "    <tr style=\"text-align: right;\">\n",
       "      <th></th>\n",
       "      <th>sn</th>\n",
       "      <th>streamtype</th>\n",
       "      <th>timestamp</th>\n",
       "      <th>level</th>\n",
       "      <th>invalid_the_geom</th>\n",
       "    </tr>\n",
       "  </thead>\n",
       "  <tbody>\n",
       "    <tr>\n",
       "      <th>0</th>\n",
       "      <td>1400016</td>\n",
       "      <td>Trash</td>\n",
       "      <td>06/06/2014 02:04:00 PM</td>\n",
       "      <td>RED</td>\n",
       "      <td>(39.9951, -75.1395)</td>\n",
       "    </tr>\n",
       "    <tr>\n",
       "      <th>1</th>\n",
       "      <td>172206</td>\n",
       "      <td>Trash</td>\n",
       "      <td>06/16/2014 04:29:00 PM</td>\n",
       "      <td>RED</td>\n",
       "      <td>(39.946, -75.1578)</td>\n",
       "    </tr>\n",
       "    <tr>\n",
       "      <th>2</th>\n",
       "      <td>173269</td>\n",
       "      <td>Trash</td>\n",
       "      <td>06/16/2014 12:59:00 PM</td>\n",
       "      <td>RED</td>\n",
       "      <td>(40.003, -75.1659)</td>\n",
       "    </tr>\n",
       "    <tr>\n",
       "      <th>3</th>\n",
       "      <td>173209</td>\n",
       "      <td>Trash</td>\n",
       "      <td>06/12/2014 12:35:00 PM</td>\n",
       "      <td>GREEN</td>\n",
       "      <td>(39.9533, -75.2174)</td>\n",
       "    </tr>\n",
       "    <tr>\n",
       "      <th>4</th>\n",
       "      <td>173041</td>\n",
       "      <td>Trash</td>\n",
       "      <td>06/12/2014 10:38:00 AM</td>\n",
       "      <td>GREEN</td>\n",
       "      <td>(40.0585, -75.1894)</td>\n",
       "    </tr>\n",
       "    <tr>\n",
       "      <th>...</th>\n",
       "      <td>...</td>\n",
       "      <td>...</td>\n",
       "      <td>...</td>\n",
       "      <td>...</td>\n",
       "      <td>...</td>\n",
       "    </tr>\n",
       "    <tr>\n",
       "      <th>53863</th>\n",
       "      <td>171821</td>\n",
       "      <td>Trash</td>\n",
       "      <td>01/01/2014 12:04:00 AM</td>\n",
       "      <td>YELLOW</td>\n",
       "      <td>(39.95017402, -75.18092682)</td>\n",
       "    </tr>\n",
       "    <tr>\n",
       "      <th>53864</th>\n",
       "      <td>174535</td>\n",
       "      <td>Trash</td>\n",
       "      <td>01/01/2014 12:03:00 AM</td>\n",
       "      <td>RED</td>\n",
       "      <td>(39.97882609, -75.15801913)</td>\n",
       "    </tr>\n",
       "    <tr>\n",
       "      <th>53865</th>\n",
       "      <td>173114</td>\n",
       "      <td>Trash</td>\n",
       "      <td>01/01/2014 12:00:00 AM</td>\n",
       "      <td>GREEN</td>\n",
       "      <td>(40.0363, -75.1304)</td>\n",
       "    </tr>\n",
       "    <tr>\n",
       "      <th>53866</th>\n",
       "      <td>174544</td>\n",
       "      <td>Trash</td>\n",
       "      <td>01/01/2014 12:00:00 AM</td>\n",
       "      <td>GREEN</td>\n",
       "      <td>(39.98636987, -75.15632146)</td>\n",
       "    </tr>\n",
       "    <tr>\n",
       "      <th>53867</th>\n",
       "      <td>1401947</td>\n",
       "      <td>Trash</td>\n",
       "      <td>01/01/2014 12:00:00 AM</td>\n",
       "      <td>YELLOW</td>\n",
       "      <td>(39.95289401, -75.14500629)</td>\n",
       "    </tr>\n",
       "  </tbody>\n",
       "</table>\n",
       "<p>53868 rows × 5 columns</p>\n",
       "</div>"
      ],
      "text/plain": [
       "            sn streamtype               timestamp   level  \\\n",
       "0      1400016      Trash  06/06/2014 02:04:00 PM     RED   \n",
       "1       172206      Trash  06/16/2014 04:29:00 PM     RED   \n",
       "2       173269      Trash  06/16/2014 12:59:00 PM     RED   \n",
       "3       173209      Trash  06/12/2014 12:35:00 PM   GREEN   \n",
       "4       173041      Trash  06/12/2014 10:38:00 AM   GREEN   \n",
       "...        ...        ...                     ...     ...   \n",
       "53863   171821      Trash  01/01/2014 12:04:00 AM  YELLOW   \n",
       "53864   174535      Trash  01/01/2014 12:03:00 AM     RED   \n",
       "53865   173114      Trash  01/01/2014 12:00:00 AM   GREEN   \n",
       "53866   174544      Trash  01/01/2014 12:00:00 AM   GREEN   \n",
       "53867  1401947      Trash  01/01/2014 12:00:00 AM  YELLOW   \n",
       "\n",
       "                  invalid_the_geom  \n",
       "0              (39.9951, -75.1395)  \n",
       "1               (39.946, -75.1578)  \n",
       "2               (40.003, -75.1659)  \n",
       "3              (39.9533, -75.2174)  \n",
       "4              (40.0585, -75.1894)  \n",
       "...                            ...  \n",
       "53863  (39.95017402, -75.18092682)  \n",
       "53864  (39.97882609, -75.15801913)  \n",
       "53865          (40.0363, -75.1304)  \n",
       "53866  (39.98636987, -75.15632146)  \n",
       "53867  (39.95289401, -75.14500629)  \n",
       "\n",
       "[53868 rows x 5 columns]"
      ]
     },
     "execution_count": 1,
     "metadata": {},
     "output_type": "execute_result"
    }
   ],
   "source": [
    "%matplotlib inline\n",
    "# Dependencies\n",
    "import matplotlib.pyplot as plt\n",
    "import numpy as np\n",
    "import pandas as pd\n",
    "from datetime import datetime\n",
    "# Load in csv\n",
    "bin_usage_df = pd.read_csv(\"bin_usage.csv\")\n",
    "bin_usage_df"
   ]
  },
  {
   "cell_type": "code",
   "execution_count": 2,
   "metadata": {},
   "outputs": [
    {
     "data": {
      "text/plain": [
       "sn                  0\n",
       "streamtype          0\n",
       "timestamp           0\n",
       "level               0\n",
       "invalid_the_geom    0\n",
       "dtype: int64"
      ]
     },
     "execution_count": 2,
     "metadata": {},
     "output_type": "execute_result"
    }
   ],
   "source": [
    "# Get the columns and the rows that are null.\n",
    "bin_usage_df.isnull().sum()"
   ]
  },
  {
   "cell_type": "code",
   "execution_count": 3,
   "metadata": {},
   "outputs": [
    {
     "data": {
      "text/plain": [
       "sn                  53868\n",
       "streamtype          53868\n",
       "timestamp           53868\n",
       "level               53868\n",
       "invalid_the_geom    53868\n",
       "dtype: int64"
      ]
     },
     "execution_count": 3,
     "metadata": {},
     "output_type": "execute_result"
    }
   ],
   "source": [
    "# Get the columns and the rows that are not null.\n",
    "bin_usage_df.notnull().sum()"
   ]
  },
  {
   "cell_type": "code",
   "execution_count": 4,
   "metadata": {},
   "outputs": [
    {
     "data": {
      "text/plain": [
       "sn                   int64\n",
       "streamtype          object\n",
       "timestamp           object\n",
       "level               object\n",
       "invalid_the_geom    object\n",
       "dtype: object"
      ]
     },
     "execution_count": 4,
     "metadata": {},
     "output_type": "execute_result"
    }
   ],
   "source": [
    "# Get the data types of each column.\n",
    "bin_usage_df.dtypes"
   ]
  },
  {
   "cell_type": "code",
   "execution_count": 5,
   "metadata": {},
   "outputs": [],
   "source": [
    "# Rename serial Number column\n",
    "bin_usage_df.rename(columns={\"sn\": \"serialnum\"}, inplace=True)"
   ]
  },
  {
   "cell_type": "code",
   "execution_count": 7,
   "metadata": {},
   "outputs": [
    {
     "data": {
      "text/plain": [
       "Trash    53868\n",
       "Name: streamtype, dtype: int64"
      ]
     },
     "execution_count": 7,
     "metadata": {},
     "output_type": "execute_result"
    }
   ],
   "source": [
    "# how many streamtypes\n",
    "bin_usage_df.streamtype.value_counts()"
   ]
  },
  {
   "cell_type": "code",
   "execution_count": 8,
   "metadata": {},
   "outputs": [
    {
     "data": {
      "text/plain": [
       "GREEN     25709\n",
       "YELLOW    19540\n",
       "RED        8619\n",
       "Name: level, dtype: int64"
      ]
     },
     "execution_count": 8,
     "metadata": {},
     "output_type": "execute_result"
    }
   ],
   "source": [
    "# how many levels\n",
    "bin_usage_df.level.value_counts()"
   ]
  },
  {
   "cell_type": "code",
   "execution_count": 9,
   "metadata": {},
   "outputs": [
    {
     "data": {
      "text/plain": [
       "171740    512\n",
       "171758    435\n",
       "171777    429\n",
       "172228    383\n",
       "171865    372\n",
       "         ... \n",
       "171732      1\n",
       "173285      1\n",
       "173061      1\n",
       "171870      1\n",
       "171850      1\n",
       "Name: serialnum, Length: 968, dtype: int64"
      ]
     },
     "execution_count": 9,
     "metadata": {},
     "output_type": "execute_result"
    }
   ],
   "source": [
    "# usage per serial number\n",
    "bin_usage_df.serialnum.value_counts()"
   ]
  },
  {
   "cell_type": "code",
   "execution_count": 10,
   "metadata": {},
   "outputs": [],
   "source": [
    "# change timestamp to datetime\n",
    "bin_usage_df[['timestamp']] = bin_usage_df[['timestamp']].apply(pd.to_datetime) "
   ]
  },
  {
   "cell_type": "code",
   "execution_count": 11,
   "metadata": {},
   "outputs": [
    {
     "data": {
      "text/plain": [
       "serialnum                    int64\n",
       "streamtype                  object\n",
       "timestamp           datetime64[ns]\n",
       "level                       object\n",
       "invalid_the_geom            object\n",
       "dtype: object"
      ]
     },
     "execution_count": 11,
     "metadata": {},
     "output_type": "execute_result"
    }
   ],
   "source": [
    "bin_usage_df.dtypes"
   ]
  },
  {
   "cell_type": "code",
   "execution_count": 12,
   "metadata": {},
   "outputs": [],
   "source": [
    "month_map={ \n",
    "    1: 'January', \n",
    "    2: 'February', \n",
    "    3: 'March', \n",
    "    4: 'April',\n",
    "    5: 'May', \n",
    "    6: 'June'\n",
    "} \n",
    "\n",
    "bin_usage_df['Month'] = bin_usage_df['timestamp'].dt.month.map(month_map)"
   ]
  },
  {
   "cell_type": "code",
   "execution_count": 13,
   "metadata": {},
   "outputs": [],
   "source": [
    "week_map={\n",
    "    0: 'Monday', \n",
    "    1: 'Tuesday', \n",
    "    2: 'Wednesday', \n",
    "    3: 'Thursday', \n",
    "    4: 'Friday',\n",
    "    5: 'Saturday', \n",
    "    6: 'Sunday'\n",
    "} \n",
    "\n",
    "bin_usage_df['Day of Week'] = bin_usage_df['timestamp'].dt.weekday.map(week_map)"
   ]
  },
  {
   "cell_type": "code",
   "execution_count": 14,
   "metadata": {},
   "outputs": [
    {
     "data": {
      "text/html": [
       "<div>\n",
       "<style scoped>\n",
       "    .dataframe tbody tr th:only-of-type {\n",
       "        vertical-align: middle;\n",
       "    }\n",
       "\n",
       "    .dataframe tbody tr th {\n",
       "        vertical-align: top;\n",
       "    }\n",
       "\n",
       "    .dataframe thead th {\n",
       "        text-align: right;\n",
       "    }\n",
       "</style>\n",
       "<table border=\"1\" class=\"dataframe\">\n",
       "  <thead>\n",
       "    <tr style=\"text-align: right;\">\n",
       "      <th></th>\n",
       "      <th>serialnum</th>\n",
       "      <th>streamtype</th>\n",
       "      <th>timestamp</th>\n",
       "      <th>level</th>\n",
       "      <th>invalid_the_geom</th>\n",
       "      <th>Month</th>\n",
       "      <th>Day of Week</th>\n",
       "    </tr>\n",
       "  </thead>\n",
       "  <tbody>\n",
       "    <tr>\n",
       "      <th>0</th>\n",
       "      <td>1400016</td>\n",
       "      <td>Trash</td>\n",
       "      <td>2014-06-06 14:04:00</td>\n",
       "      <td>RED</td>\n",
       "      <td>(39.9951, -75.1395)</td>\n",
       "      <td>June</td>\n",
       "      <td>Friday</td>\n",
       "    </tr>\n",
       "    <tr>\n",
       "      <th>1</th>\n",
       "      <td>172206</td>\n",
       "      <td>Trash</td>\n",
       "      <td>2014-06-16 16:29:00</td>\n",
       "      <td>RED</td>\n",
       "      <td>(39.946, -75.1578)</td>\n",
       "      <td>June</td>\n",
       "      <td>Monday</td>\n",
       "    </tr>\n",
       "    <tr>\n",
       "      <th>2</th>\n",
       "      <td>173269</td>\n",
       "      <td>Trash</td>\n",
       "      <td>2014-06-16 12:59:00</td>\n",
       "      <td>RED</td>\n",
       "      <td>(40.003, -75.1659)</td>\n",
       "      <td>June</td>\n",
       "      <td>Monday</td>\n",
       "    </tr>\n",
       "    <tr>\n",
       "      <th>3</th>\n",
       "      <td>173209</td>\n",
       "      <td>Trash</td>\n",
       "      <td>2014-06-12 12:35:00</td>\n",
       "      <td>GREEN</td>\n",
       "      <td>(39.9533, -75.2174)</td>\n",
       "      <td>June</td>\n",
       "      <td>Thursday</td>\n",
       "    </tr>\n",
       "    <tr>\n",
       "      <th>4</th>\n",
       "      <td>173041</td>\n",
       "      <td>Trash</td>\n",
       "      <td>2014-06-12 10:38:00</td>\n",
       "      <td>GREEN</td>\n",
       "      <td>(40.0585, -75.1894)</td>\n",
       "      <td>June</td>\n",
       "      <td>Thursday</td>\n",
       "    </tr>\n",
       "    <tr>\n",
       "      <th>...</th>\n",
       "      <td>...</td>\n",
       "      <td>...</td>\n",
       "      <td>...</td>\n",
       "      <td>...</td>\n",
       "      <td>...</td>\n",
       "      <td>...</td>\n",
       "      <td>...</td>\n",
       "    </tr>\n",
       "    <tr>\n",
       "      <th>53863</th>\n",
       "      <td>171821</td>\n",
       "      <td>Trash</td>\n",
       "      <td>2014-01-01 00:04:00</td>\n",
       "      <td>YELLOW</td>\n",
       "      <td>(39.95017402, -75.18092682)</td>\n",
       "      <td>January</td>\n",
       "      <td>Wednesday</td>\n",
       "    </tr>\n",
       "    <tr>\n",
       "      <th>53864</th>\n",
       "      <td>174535</td>\n",
       "      <td>Trash</td>\n",
       "      <td>2014-01-01 00:03:00</td>\n",
       "      <td>RED</td>\n",
       "      <td>(39.97882609, -75.15801913)</td>\n",
       "      <td>January</td>\n",
       "      <td>Wednesday</td>\n",
       "    </tr>\n",
       "    <tr>\n",
       "      <th>53865</th>\n",
       "      <td>173114</td>\n",
       "      <td>Trash</td>\n",
       "      <td>2014-01-01 00:00:00</td>\n",
       "      <td>GREEN</td>\n",
       "      <td>(40.0363, -75.1304)</td>\n",
       "      <td>January</td>\n",
       "      <td>Wednesday</td>\n",
       "    </tr>\n",
       "    <tr>\n",
       "      <th>53866</th>\n",
       "      <td>174544</td>\n",
       "      <td>Trash</td>\n",
       "      <td>2014-01-01 00:00:00</td>\n",
       "      <td>GREEN</td>\n",
       "      <td>(39.98636987, -75.15632146)</td>\n",
       "      <td>January</td>\n",
       "      <td>Wednesday</td>\n",
       "    </tr>\n",
       "    <tr>\n",
       "      <th>53867</th>\n",
       "      <td>1401947</td>\n",
       "      <td>Trash</td>\n",
       "      <td>2014-01-01 00:00:00</td>\n",
       "      <td>YELLOW</td>\n",
       "      <td>(39.95289401, -75.14500629)</td>\n",
       "      <td>January</td>\n",
       "      <td>Wednesday</td>\n",
       "    </tr>\n",
       "  </tbody>\n",
       "</table>\n",
       "<p>53868 rows × 7 columns</p>\n",
       "</div>"
      ],
      "text/plain": [
       "       serialnum streamtype           timestamp   level  \\\n",
       "0        1400016      Trash 2014-06-06 14:04:00     RED   \n",
       "1         172206      Trash 2014-06-16 16:29:00     RED   \n",
       "2         173269      Trash 2014-06-16 12:59:00     RED   \n",
       "3         173209      Trash 2014-06-12 12:35:00   GREEN   \n",
       "4         173041      Trash 2014-06-12 10:38:00   GREEN   \n",
       "...          ...        ...                 ...     ...   \n",
       "53863     171821      Trash 2014-01-01 00:04:00  YELLOW   \n",
       "53864     174535      Trash 2014-01-01 00:03:00     RED   \n",
       "53865     173114      Trash 2014-01-01 00:00:00   GREEN   \n",
       "53866     174544      Trash 2014-01-01 00:00:00   GREEN   \n",
       "53867    1401947      Trash 2014-01-01 00:00:00  YELLOW   \n",
       "\n",
       "                  invalid_the_geom    Month Day of Week  \n",
       "0              (39.9951, -75.1395)     June      Friday  \n",
       "1               (39.946, -75.1578)     June      Monday  \n",
       "2               (40.003, -75.1659)     June      Monday  \n",
       "3              (39.9533, -75.2174)     June    Thursday  \n",
       "4              (40.0585, -75.1894)     June    Thursday  \n",
       "...                            ...      ...         ...  \n",
       "53863  (39.95017402, -75.18092682)  January   Wednesday  \n",
       "53864  (39.97882609, -75.15801913)  January   Wednesday  \n",
       "53865          (40.0363, -75.1304)  January   Wednesday  \n",
       "53866  (39.98636987, -75.15632146)  January   Wednesday  \n",
       "53867  (39.95289401, -75.14500629)  January   Wednesday  \n",
       "\n",
       "[53868 rows x 7 columns]"
      ]
     },
     "execution_count": 14,
     "metadata": {},
     "output_type": "execute_result"
    }
   ],
   "source": [
    "bin_usage_df"
   ]
  },
  {
   "cell_type": "code",
   "execution_count": 56,
   "metadata": {},
   "outputs": [],
   "source": [
    "timestamps_per_month = bin_usage_df.groupby(\"Month\").count()['timestamp']"
   ]
  },
  {
   "cell_type": "code",
   "execution_count": 59,
   "metadata": {},
   "outputs": [
    {
     "data": {
      "text/plain": [
       "Month\n",
       "January      8678\n",
       "February     6661\n",
       "March        8730\n",
       "April        9440\n",
       "May         11157\n",
       "June         9202\n",
       "Name: timestamp, dtype: int64"
      ]
     },
     "execution_count": 59,
     "metadata": {},
     "output_type": "execute_result"
    }
   ],
   "source": [
    "timestamps_per_month"
   ]
  },
  {
   "cell_type": "code",
   "execution_count": 58,
   "metadata": {},
   "outputs": [],
   "source": [
    "timestamps_per_month = timestamps_per_month.reindex([\"January\", \"February\", \"March\", \"April\", \"May\", \"June\"])"
   ]
  },
  {
   "cell_type": "code",
   "execution_count": 54,
   "metadata": {},
   "outputs": [
    {
     "data": {
      "text/plain": [
       "Month\n",
       "January      8678\n",
       "February     6661\n",
       "March        8730\n",
       "April        9440\n",
       "May         11157\n",
       "June         9202\n",
       "Name: timestamp, dtype: int64"
      ]
     },
     "execution_count": 54,
     "metadata": {},
     "output_type": "execute_result"
    }
   ],
   "source": [
    "timestamps_per_month"
   ]
  },
  {
   "cell_type": "code",
   "execution_count": 50,
   "metadata": {},
   "outputs": [],
   "source": [
    "timestamps_level_month = bin_usage_df.groupby([\"Month\", \"level\"]).count()['timestamp']"
   ]
  },
  {
   "cell_type": "code",
   "execution_count": 51,
   "metadata": {},
   "outputs": [
    {
     "data": {
      "text/plain": [
       "Month     level \n",
       "April     GREEN     4347\n",
       "          RED       1376\n",
       "          YELLOW    3717\n",
       "February  GREEN     2916\n",
       "          RED       1363\n",
       "          YELLOW    2382\n",
       "January   GREEN     4681\n",
       "          RED       1237\n",
       "          YELLOW    2760\n",
       "June      GREEN     4554\n",
       "          RED       1533\n",
       "          YELLOW    3115\n",
       "March     GREEN     4106\n",
       "          RED       1369\n",
       "          YELLOW    3255\n",
       "May       GREEN     5105\n",
       "          RED       1741\n",
       "          YELLOW    4311\n",
       "Name: timestamp, dtype: int64"
      ]
     },
     "execution_count": 51,
     "metadata": {},
     "output_type": "execute_result"
    }
   ],
   "source": [
    "timestamps_level_month"
   ]
  },
  {
   "cell_type": "code",
   "execution_count": 52,
   "metadata": {},
   "outputs": [
    {
     "ename": "TypeError",
     "evalue": "reindex() got an unexpected keyword argument \"labels\"",
     "output_type": "error",
     "traceback": [
      "\u001b[0;31m---------------------------------------------------------------------------\u001b[0m",
      "\u001b[0;31mTypeError\u001b[0m                                 Traceback (most recent call last)",
      "\u001b[0;32m<ipython-input-52-831594446cc2>\u001b[0m in \u001b[0;36m<module>\u001b[0;34m\u001b[0m\n\u001b[0;32m----> 1\u001b[0;31m \u001b[0mtimestamps_level_month\u001b[0m\u001b[0;34m.\u001b[0m\u001b[0mreindex\u001b[0m\u001b[0;34m(\u001b[0m\u001b[0mlabels\u001b[0m\u001b[0;34m=\u001b[0m\u001b[0;34m[\u001b[0m\u001b[0;34m\"January\"\u001b[0m\u001b[0;34m,\u001b[0m \u001b[0;34m\"February\"\u001b[0m\u001b[0;34m,\u001b[0m \u001b[0;34m\"March\"\u001b[0m\u001b[0;34m,\u001b[0m \u001b[0;34m\"April\"\u001b[0m\u001b[0;34m,\u001b[0m \u001b[0;34m\"May\"\u001b[0m\u001b[0;34m,\u001b[0m \u001b[0;34m\"June\"\u001b[0m\u001b[0;34m]\u001b[0m\u001b[0;34m)\u001b[0m\u001b[0;34m\u001b[0m\u001b[0;34m\u001b[0m\u001b[0m\n\u001b[0m",
      "\u001b[0;32m~/opt/anaconda3/envs/PythonData/lib/python3.7/site-packages/pandas/core/series.py\u001b[0m in \u001b[0;36mreindex\u001b[0;34m(self, index, **kwargs)\u001b[0m\n\u001b[1;32m   4397\u001b[0m     )\n\u001b[1;32m   4398\u001b[0m     \u001b[0;32mdef\u001b[0m \u001b[0mreindex\u001b[0m\u001b[0;34m(\u001b[0m\u001b[0mself\u001b[0m\u001b[0;34m,\u001b[0m \u001b[0mindex\u001b[0m\u001b[0;34m=\u001b[0m\u001b[0;32mNone\u001b[0m\u001b[0;34m,\u001b[0m \u001b[0;34m**\u001b[0m\u001b[0mkwargs\u001b[0m\u001b[0;34m)\u001b[0m\u001b[0;34m:\u001b[0m\u001b[0;34m\u001b[0m\u001b[0;34m\u001b[0m\u001b[0m\n\u001b[0;32m-> 4399\u001b[0;31m         \u001b[0;32mreturn\u001b[0m \u001b[0msuper\u001b[0m\u001b[0;34m(\u001b[0m\u001b[0;34m)\u001b[0m\u001b[0;34m.\u001b[0m\u001b[0mreindex\u001b[0m\u001b[0;34m(\u001b[0m\u001b[0mindex\u001b[0m\u001b[0;34m=\u001b[0m\u001b[0mindex\u001b[0m\u001b[0;34m,\u001b[0m \u001b[0;34m**\u001b[0m\u001b[0mkwargs\u001b[0m\u001b[0;34m)\u001b[0m\u001b[0;34m\u001b[0m\u001b[0;34m\u001b[0m\u001b[0m\n\u001b[0m\u001b[1;32m   4400\u001b[0m \u001b[0;34m\u001b[0m\u001b[0m\n\u001b[1;32m   4401\u001b[0m     def drop(\n",
      "\u001b[0;32m~/opt/anaconda3/envs/PythonData/lib/python3.7/site-packages/pandas/core/generic.py\u001b[0m in \u001b[0;36mreindex\u001b[0;34m(self, *args, **kwargs)\u001b[0m\n\u001b[1;32m   4437\u001b[0m         \u001b[0;32mif\u001b[0m \u001b[0mkwargs\u001b[0m\u001b[0;34m:\u001b[0m\u001b[0;34m\u001b[0m\u001b[0;34m\u001b[0m\u001b[0m\n\u001b[1;32m   4438\u001b[0m             raise TypeError(\n\u001b[0;32m-> 4439\u001b[0;31m                 \u001b[0;34m\"reindex() got an unexpected keyword \"\u001b[0m\u001b[0;34m\u001b[0m\u001b[0;34m\u001b[0m\u001b[0m\n\u001b[0m\u001b[1;32m   4440\u001b[0m                 \u001b[0;34mf'argument \"{list(kwargs.keys())[0]}\"'\u001b[0m\u001b[0;34m\u001b[0m\u001b[0;34m\u001b[0m\u001b[0m\n\u001b[1;32m   4441\u001b[0m             )\n",
      "\u001b[0;31mTypeError\u001b[0m: reindex() got an unexpected keyword argument \"labels\""
     ]
    }
   ],
   "source": []
  },
  {
   "cell_type": "code",
   "execution_count": null,
   "metadata": {},
   "outputs": [],
   "source": []
  }
 ],
 "metadata": {
  "kernelspec": {
   "display_name": "PythonData",
   "language": "python",
   "name": "pythondata"
  },
  "language_info": {
   "codemirror_mode": {
    "name": "ipython",
    "version": 3
   },
   "file_extension": ".py",
   "mimetype": "text/x-python",
   "name": "python",
   "nbconvert_exporter": "python",
   "pygments_lexer": "ipython3",
   "version": "3.7.9"
  }
 },
 "nbformat": 4,
 "nbformat_minor": 4
}
